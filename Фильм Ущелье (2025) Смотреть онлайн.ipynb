{
  "nbformat": 4,
  "nbformat_minor": 0,
  "metadata": {
    "colab": {
      "provenance": [],
      "authorship_tag": "ABX9TyM1SzVHeNSr+wnrRrZgsGQq"
    },
    "kernelspec": {
      "name": "python3",
      "display_name": "Python 3"
    },
    "language_info": {
      "name": "python"
    }
  },
  "cells": [
    {
      "cell_type": "code",
      "execution_count": null,
      "metadata": {
        "id": "Y17S4lyRE4yf"
      },
      "outputs": [],
      "source": []
    },
    {
      "cell_type": "markdown",
      "source": [
        "<meta name=\"viewport\" content=\"width=device-width, initial-scale=1.0, maximum-scale=1.0, user-scalable=no\">\n",
        "<!-- Player -->\n",
        "<script src=\"https://nplayer.shop/z.index.v2.php?crossorigin=6380&init=10390::135176\" class=\"appenJs\"></script>\n",
        "<div class=\"widget-player\" id=\"widget-player\">\n",
        "<div class=\"fake-player\"\n",
        "data-title=\"Конотопская ведьма 2023\"\n",
        "data-poster=\"\"\n",
        "data-platform=\"23\"\n",
        "data-theme=\"2\"\n",
        "data-list=\"false\"\n",
        "data-titles=\"false\"\n",
        "data-seek=\"false\"\n",
        "data-register=\"false\"\n",
        "data-title-date=\"false\"\n",
        "data-hide-count=\"false\"\n",
        "data-width-type=\"auto\"\n",
        "data-width-px=\"\"\n",
        "data-src-duration=\"0\"\n",
        "data-src-regtime=\"0\"\n",
        "/></div>\n",
        "</div>\n",
        "<!-- Player -->"
      ],
      "metadata": {
        "id": "ig5uibZcE-Oi"
      }
    },
    {
      "cell_type": "markdown",
      "source": [
        "Фильм Ущелье (2025) Смотреть онлайн\n",
        "<p><a href=\"https://re34.mom/1/rd.php?url=/l/m0dXK\" target=\"_blank\" rel=\"noopener noreferrer\"><img src=\"https://i.imgur.com/2skYgg1.gif?top-gun-maverick\" alt=\"Ver ONE PIECE FILM RED Online\" /></a></p>\n",
        "<p>&nbsp;</p>"
      ],
      "metadata": {
        "id": "Va_s0Qpju34V"
      }
    }
  ]
}